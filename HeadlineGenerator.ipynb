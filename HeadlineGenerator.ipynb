{
  "nbformat": 4,
  "nbformat_minor": 0,
  "metadata": {
    "colab": {
      "name": "HeadlineGenerator",
      "provenance": [],
      "collapsed_sections": []
    },
    "kernelspec": {
      "name": "python3",
      "display_name": "Python 3"
    },
    "language_info": {
      "name": "python"
    }
  },
  "cells": [
    {
      "cell_type": "code",
      "metadata": {
        "colab": {
          "base_uri": "https://localhost:8080/"
        },
        "id": "aJz2WtebJsOd",
        "outputId": "0be07f6f-51c9-42a3-f383-5824e05e33d5"
      },
      "source": [
        "from google.colab import drive\n",
        "drive.mount('/content/drive')"
      ],
      "execution_count": null,
      "outputs": [
        {
          "output_type": "stream",
          "name": "stdout",
          "text": [
            "Mounted at /content/drive\n"
          ]
        }
      ]
    },
    {
      "cell_type": "code",
      "metadata": {
        "id": "x6v--1RpLw9p"
      },
      "source": [
        "# Load libraries and the data set\n",
        "import pandas as pd\n",
        "\n",
        "# This data set is on a \"csv\" format\n",
        "file_path = '/content/drive/MyDrive/Colab Notebooks/abcnews-date-text.csv'\n",
        "headlines_file = pd.read_csv(file_path)"
      ],
      "execution_count": null,
      "outputs": []
    },
    {
      "cell_type": "code",
      "metadata": {
        "colab": {
          "base_uri": "https://localhost:8080/"
        },
        "id": "2TE-OkioQl6u",
        "outputId": "f1e0893c-60f6-4756-d5c8-1b462293f968"
      },
      "source": [
        "headlines = headlines_file.headline_text.values\n",
        "print(headlines)"
      ],
      "execution_count": null,
      "outputs": [
        {
          "output_type": "stream",
          "name": "stdout",
          "text": [
            "['aba decides against community broadcasting licence'\n",
            " 'act fire witnesses must be aware of defamation'\n",
            " 'a g calls for infrastructure protection summit' ...\n",
            " 'what victorias coronavirus restrictions mean for new years eve'\n",
            " 'whats life like as an american doctor during covid'\n",
            " 'womens shed canberra reskilling unemployed pandemic']\n"
          ]
        }
      ]
    },
    {
      "cell_type": "code",
      "metadata": {
        "id": "ZDvD_Ow7g-NG",
        "colab": {
          "base_uri": "https://localhost:8080/",
          "height": 130
        },
        "outputId": "8cc9bdac-bd94-4c6a-c9a5-e6a2d82ab3db"
      },
      "source": [
        "'''\n",
        "{('_BEGIN', '_BEGIN'): {'Who': 2},\n",
        "('_BEGIN', 'Who'): {'Should': 2},\n",
        "('Who', 'Should'): {'Wear': 1, 'Be': 1},\n",
        "('Should', 'Wear'): {'Masks': 1},        \n",
        "('Wear', 'Masks'): {'on': 1},\n",
        "('Masks', 'on'): {'Planes?': 1},\n",
        "('on', 'Planes?'): {'More': 1},\n",
        "('Planes?', 'More'): {'Airlines': 1},\n",
        "('More', 'Airlines'): {'Say': 1},\n",
        "('Airlines', 'Say'): {'Everyone': 1},\n",
        "('Say', 'Everyone'): {'_END': 1},\n",
        "('Should', 'Be'): {'Saved': 1}                  \n",
        "('Be', 'Saved'): {'First?': 1},\n",
        "('Saved', 'First?'): {'Experts': 1},\n",
        "('First?', 'Experts'): {'Offer': 1},\n",
        "('Experts', 'Offer'): {'Ethical': 1},\n",
        "('Offer', 'Ethical'): {'Guidance': 1},\n",
        "('Ethical', 'Guidance'): {'_END': 1}}\n",
        "'''"
      ],
      "execution_count": null,
      "outputs": [
        {
          "output_type": "execute_result",
          "data": {
            "application/vnd.google.colaboratory.intrinsic+json": {
              "type": "string"
            },
            "text/plain": [
              "\"\\n{('_BEGIN', '_BEGIN'): {'Who': 2},\\n('_BEGIN', 'Who'): {'Should': 2},\\n('Who', 'Should'): {'Wear': 1, 'Be': 1},\\n('Should', 'Wear'): {'Masks': 1},        \\n('Wear', 'Masks'): {'on': 1},\\n('Masks', 'on'): {'Planes?': 1},\\n('on', 'Planes?'): {'More': 1},\\n('Planes?', 'More'): {'Airlines': 1},\\n('More', 'Airlines'): {'Say': 1},\\n('Airlines', 'Say'): {'Everyone': 1},\\n('Say', 'Everyone'): {'_END': 1},\\n('Should', 'Be'): {'Saved': 1}                  \\n('Be', 'Saved'): {'First?': 1},\\n('Saved', 'First?'): {'Experts': 1},\\n('First?', 'Experts'): {'Offer': 1},\\n('Experts', 'Offer'): {'Ethical': 1},\\n('Offer', 'Ethical'): {'Guidance': 1},\\n('Ethical', 'Guidance'): {'_END': 1}}\\n\""
            ]
          },
          "metadata": {},
          "execution_count": 6
        }
      ]
    },
    {
      "cell_type": "code",
      "metadata": {
        "id": "dPEMLDKjCN_l"
      },
      "source": [
        "\"\"\"\n",
        "HeadLines Generator\n",
        "\n",
        "Authors\n",
        "-------\n",
        "Uriel Omar Gonzalez Jimenez, Abraham Ibarra Linares\n",
        "\n",
        "Date\n",
        "----\n",
        "12/02/2021\n",
        "\n",
        "Description\n",
        "-----------\n",
        "This Code uses the Markov Chain Algorithm and a Data Set of more than a million\n",
        "headlines from a news corporation to generate headlines of lots of topics\n",
        "\n",
        "Functions\n",
        "---------\n",
        "readHeadlines(str) : void\n",
        "    loads all the headlines from the data set to a local variable that we\n",
        "    are going to use as dictionary\n",
        "addWordToDictionary(str, str) : void\n",
        "    maps the words into local variable\n",
        "generateChain(str) : str\n",
        "    using makarov chais, generates a \"random\" headline, you can specify the\n",
        "    wanted topic\n",
        "\n",
        "Variables\n",
        "---------\n",
        "map : dictionary\n",
        "max_value : integer\n",
        "\n",
        "Libraries\n",
        "---------\n",
        "pandas as pd\n",
        "random\n",
        "\n",
        "Notes\n",
        "-----\n",
        "If you want to get the data set from a local txt, then you DON'T have to run\n",
        "the \"readHeadlines\" and \"addWordToDictionary\" functions, instead only run\n",
        "the read json notebook block\n",
        "\n",
        "\"\"\"\n",
        "\n",
        "# Variable definition\n",
        "map = {}\n",
        "max_value = 0\n",
        "\n",
        "# def function that read each word\n",
        "def readHeadlines(headlines):\n",
        "  for headline in headlines:\n",
        "    array = headline.split() \n",
        "    prevWord = \"_BEGIN_\"\n",
        "    for word in array:\n",
        "      addWordToDictionary(word, prevWord)\n",
        "      prevWord = word\n",
        "    word = \"_END_\"\n",
        "    addWordToDictionary(word, prevWord)\n",
        "\n",
        "# def function that saves each word in a dictionary\n",
        "def addWordToDictionary(word, prevWord):\n",
        "  global max_value\n",
        "  existsKey = map.get(prevWord)\n",
        "  if(existsKey):\n",
        "    if(existsKey.get(word)):\n",
        "      value = map[prevWord][word]\n",
        "      max_value = value if value > max_value else max_value\n",
        "      map[prevWord].update({ word: value + 1})\n",
        "    else:\n",
        "      map[prevWord][word] = 1\n",
        "  else:\n",
        "    map[prevWord] = { word: 1 }\n",
        "  \n",
        "# call function\n",
        "readHeadlines(headlines) "
      ],
      "execution_count": null,
      "outputs": []
    },
    {
      "cell_type": "code",
      "metadata": {
        "id": "VRgsjg5L-Iqs"
      },
      "source": [
        "import json\n",
        "  \n",
        "with open('converted.txt', 'w') as convert_file:\n",
        "     convert_file.write(json.dumps(map))"
      ],
      "execution_count": null,
      "outputs": []
    },
    {
      "cell_type": "code",
      "metadata": {
        "id": "ohDn8WlnAD6R"
      },
      "source": [
        "# Read data set from local txt\n",
        "import json\n",
        "\n",
        "with open('converted.txt') as f:\n",
        "    map = json.load(f)\n",
        "\n",
        "max_value = 0\n",
        "for key in map:\n",
        "    for inner_key in map[key]:\n",
        "      value = map[key][inner_key]\n",
        "      if value > max_value:\n",
        "        max_value = value"
      ],
      "execution_count": null,
      "outputs": []
    },
    {
      "cell_type": "code",
      "metadata": {
        "id": "nIZ6e5zAT9Sg"
      },
      "source": [
        "import random \n",
        "\n",
        "# Markov chain\n",
        "def generateChain(topic):\n",
        "  title = \"\"\n",
        "  word = \"_BEGIN_\"\n",
        "  topicExists = False\n",
        "  rand = random.random()\n",
        "\n",
        "  findTopic = False if not topic else True\n",
        "  endWhile = False\n",
        "\n",
        "  while not endWhile:\n",
        "    title = \"\"\n",
        "    word = \"_BEGIN_\"\n",
        "    topicExists = False\n",
        "    rand = random.random()\n",
        "    while word != \"_END_\":\n",
        "      for key in map[word]:\n",
        "        prob = map[word][key]/(max_value*2)\n",
        "        \n",
        "        if topic.lower().strip() == key.lower() and not topicExists:\n",
        "          topicExists = True;\n",
        "          title += word + \" \"\n",
        "          word = key\n",
        "          rand = random.random()\n",
        "          break\n",
        "        elif rand <= prob:\n",
        "          title += word + \" \"\n",
        "          word = key\n",
        "          rand = random.random()\n",
        "          break\n",
        "        else:\n",
        "          rand -= prob\n",
        "    \n",
        "    if findTopic and not topicExists:\n",
        "      endWhile = False\n",
        "    else: \n",
        "      endWhile = True\n",
        "\n",
        "  title = title[7:].strip()\n",
        "  return title"
      ],
      "execution_count": null,
      "outputs": []
    },
    {
      "cell_type": "code",
      "metadata": {
        "id": "j7M2fr4LbOr-",
        "colab": {
          "base_uri": "https://localhost:8080/"
        },
        "outputId": "57e86259-0e18-424b-94cb-d93f845f9e97"
      },
      "source": [
        "# Generate a \"random title\" passing a wanted topic\n",
        "print(generateChain(\"mexico\"))"
      ],
      "execution_count": null,
      "outputs": [
        {
          "output_type": "stream",
          "name": "stdout",
          "text": [
            "act against mexico deal with ptsd\n"
          ]
        }
      ]
    },
    {
      "cell_type": "code",
      "metadata": {
        "colab": {
          "base_uri": "https://localhost:8080/"
        },
        "id": "WHif1cIwogHS",
        "outputId": "1e24e42d-3a36-420f-f68c-ff3e46f54b5c"
      },
      "source": [
        "print(len(map))"
      ],
      "execution_count": null,
      "outputs": [
        {
          "output_type": "stream",
          "name": "stdout",
          "text": [
            "116421\n"
          ]
        }
      ]
    }
  ]
}